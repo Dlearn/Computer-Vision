{
 "cells": [
  {
   "cell_type": "code",
   "execution_count": 1,
   "metadata": {
    "collapsed": false
   },
   "outputs": [],
   "source": [
    "\"\"\"\n",
    "Name: Dylan Ho\n",
    "Matriculation Number: A0109251N\n",
    "Date: 13/8/2016\n",
    "\"\"\"\n",
    "from skimage import color\n",
    "import numpy as np\n",
    "import scipy.misc\n",
    "\n",
    "image = color.rgb2gray(scipy.misc.imread('trafalgar.jpg'))\n",
    "scipy.misc.imsave('outfileGray.jpg', image)"
   ]
  },
  {
   "cell_type": "code",
   "execution_count": 2,
   "metadata": {
    "collapsed": false
   },
   "outputs": [],
   "source": [
    "def convolutor(image, kernel):\n",
    "    # M, N are the dimensions of the input image (480,640)\n",
    "    (M, N) = np.shape(image)\n",
    "    # m, n are the dimensions of the kernel (5,5)\n",
    "    (m,n) = np.shape(kernel)\n",
    "    \n",
    "    answerRows = (M-m+1)\n",
    "    answerCols = (N-n+1)\n",
    "    # We create a (M-m+1) x (N-n+1) answerMatrix\n",
    "    answerMatrix = np.empty((answerRows,answerCols))\n",
    "    \n",
    "    for i in range(answerRows):\n",
    "        for j in range(answerCols):\n",
    "            for k in range(m):\n",
    "                for l in range(n):\n",
    "                    answerMatrix[i,j] += image[i+k,j+l] * kernel[k,l]\n",
    "            \n",
    "    return answerMatrix"
   ]
  },
  {
   "cell_type": "code",
   "execution_count": 3,
   "metadata": {
    "collapsed": false
   },
   "outputs": [],
   "source": [
    "gaussianKernel = np.matrix([[1, 4, 7, 4, 1], [4, 16, 26, 16, 4], [7, 26, 41, 26, 7], [4, 16, 26, 16, 4], [1, 4, 7, 4, 1]])\n",
    "gaussianKernel = np.multiply (1/273.0, gaussianKernel)\n",
    "answer = convolutor(image, gaussianKernel)\n",
    "scipy.misc.imsave('outfileGaussian.png', answer)"
   ]
  },
  {
   "cell_type": "code",
   "execution_count": 3,
   "metadata": {
    "collapsed": false
   },
   "outputs": [],
   "source": [
    "sobelKernel1 = np.matrix([[-1,0,1],[-2,0,2],[-1,0,1]])\n",
    "sobelKernel2 = np.matrix([[-1,-2,-1],[0,0,0],[1,2,1]])\n",
    "answer1 = convolutor(image, sobelKernel1)\n",
    "answer2 = convolutor(image, sobelKernel2)\n",
    "scipy.misc.imsave('outfileSobel1.png', answer1)\n",
    "scipy.misc.imsave('outfileSobel2.png', answer2)\n",
    "answer3 = np.absolute(answer1) + np.absolute(answer2)\n",
    "scipy.misc.imsave('outfileSobel3.png', answer3)"
   ]
  },
  {
   "cell_type": "code",
   "execution_count": null,
   "metadata": {
    "collapsed": false
   },
   "outputs": [],
   "source": [
    "pos = np.ones((10,10))\n",
    "neg = np.ones((10,10))\n",
    "neg = np.multiply(-1, neg)\n",
    "haarKernel1 = np.concatenate((pos,neg),axis=1)\n",
    "haarKernel2 = np.concatenate((pos,neg),axis=0)\n",
    "haarKernel3 = np.concatenate((haarKernel1,pos),axis=1)\n",
    "haarKernel4 = np.concatenate((haarKernel2,pos),axis=0)\n",
    "haarKerneltemp = np.concatenate((neg,pos),axis=1)\n",
    "haarKernel5 = np.concatenate((haarKernel1,haarKerneltemp),axis=0)\n",
    "haarAnswer1 = convolutor(image, haarKernel1)\n",
    "scipy.misc.imsave('outfileHaar1.png', haarAnswer1)\n",
    "haarAnswer2 = convolutor(image, haarKernel2)\n",
    "scipy.misc.imsave('outfileHaar2.png', haarAnswer2)\n",
    "haarAnswer3 = convolutor(image, haarKernel3)\n",
    "scipy.misc.imsave('outfileHaar3.png', haarAnswer3)\n",
    "haarAnswer4 = convolutor(image, haarKernel4)\n",
    "scipy.misc.imsave('outfileHaar4.png', haarAnswer4)\n",
    "haarAnswer5 = convolutor(image, haarKernel5)\n",
    "scipy.misc.imsave('outfileHaar5.png', haarAnswer5)"
   ]
  },
  {
   "cell_type": "code",
   "execution_count": null,
   "metadata": {
    "collapsed": true
   },
   "outputs": [],
   "source": []
  }
 ],
 "metadata": {
  "anaconda-cloud": {},
  "kernelspec": {
   "display_name": "Python [Root]",
   "language": "python",
   "name": "Python [Root]"
  },
  "language_info": {
   "codemirror_mode": {
    "name": "ipython",
    "version": 2
   },
   "file_extension": ".py",
   "mimetype": "text/x-python",
   "name": "python",
   "nbconvert_exporter": "python",
   "pygments_lexer": "ipython2",
   "version": "2.7.12"
  }
 },
 "nbformat": 4,
 "nbformat_minor": 0
}
