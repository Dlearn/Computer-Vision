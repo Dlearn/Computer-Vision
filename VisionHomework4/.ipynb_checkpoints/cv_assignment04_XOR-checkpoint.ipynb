{
 "cells": [
  {
   "cell_type": "markdown",
   "metadata": {},
   "source": [
    "# VisionHomework4\n",
    "\n",
    "### Helper Functions"
   ]
  },
  {
   "cell_type": "code",
   "execution_count": 45,
   "metadata": {
    "collapsed": false
   },
   "outputs": [],
   "source": [
    "import numpy as np\n",
    "from scipy.special import expit\n",
    "from sklearn.metrics import mean_squared_error\n",
    "import matplotlib.pyplot as plt\n",
    "%matplotlib inline\n",
    "\n",
    "def sig(x):\n",
    "    return expit(x)\n",
    "\n",
    "def deriv_sig(x):\n",
    "    return sig(x)*(1-sig(x))\n",
    "\n",
    "def gaus_ran(n):\n",
    "    return np.random.normal (0,1/n**(.5))"
   ]
  },
  {
   "cell_type": "markdown",
   "metadata": {},
   "source": [
    "## Hyperparameters"
   ]
  },
  {
   "cell_type": "code",
   "execution_count": 79,
   "metadata": {
    "collapsed": true
   },
   "outputs": [],
   "source": [
    "# Learning Rate\n",
    "alpha = 2.1\n",
    "epsilon = 0.00001\n",
    "maximum_epochs = 9001"
   ]
  },
  {
   "cell_type": "markdown",
   "metadata": {},
   "source": [
    "## Step 1: Input x's and y's and initial W's and b's"
   ]
  },
  {
   "cell_type": "code",
   "execution_count": 89,
   "metadata": {
    "collapsed": false
   },
   "outputs": [],
   "source": [
    "x = []\n",
    "x.append(np.array([[0],[0]]))\n",
    "x.append(np.array([[0],[1]]))\n",
    "x.append(np.array([[1],[0]]))\n",
    "x.append(np.array([[1],[1]]))\n",
    "\n",
    "y=[0,1,1,0]\n",
    "\n",
    "W1=[]\n",
    "#W1.append (np.array([[.5,.5],[1,.5]]))\n",
    "#W1.append (np.array([[1,1.5],[2,2.5]]))\n",
    "#W1.append (np.array([[3,3],[5,5]]))\n",
    "W1.append (np.array([[gaus_ran(4),gaus_ran(4)],[gaus_ran(4),gaus_ran(4)]]))\n",
    "\n",
    "b1=[]\n",
    "#b1.append (np.array([[-.5],[-.5]]))\n",
    "#b1.append (np.array([[-2],[-1]]))\n",
    "#b1.append (np.array([[-5],[-2]]))\n",
    "b1.append (np.array([[gaus_ran(4)],[gaus_ran(4)]]))\n",
    "\n",
    "W2=[]\n",
    "#W2.append (np.array([[-.5,.5]]))\n",
    "#W2.append (np.array([[-2,1]]))\n",
    "#W2.append (np.array([[-7,7]]))\n",
    "W2.append (np.array([[gaus_ran(4),gaus_ran(4)]]))\n",
    "\n",
    "b2=[]\n",
    "#b2.append (0)\n",
    "#b2.append (-2)\n",
    "#b2.append (-3)\n",
    "b2.append (gaus_ran(4))"
   ]
  },
  {
   "cell_type": "markdown",
   "metadata": {},
   "source": [
    "## Step 2: Feedforward\n",
    "## Step 3: Compute output error\n",
    "## Step 4: Backpropagate the error\n",
    "## Step 5: Gradient Descent"
   ]
  },
  {
   "cell_type": "code",
   "execution_count": 38,
   "metadata": {
    "collapsed": true
   },
   "outputs": [],
   "source": [
    "def learn (in_W1, in_W2, in_b1, in_b2):\n",
    "    z1=[]\n",
    "    z1.append (np.dot(in_W1,x[0]) + in_b1)\n",
    "    z1.append (np.dot(in_W1,x[1]) + in_b1)\n",
    "    z1.append (np.dot(in_W1,x[2]) + in_b1)\n",
    "    z1.append (np.dot(in_W1,x[3]) + in_b1)\n",
    "\n",
    "    a1=[]\n",
    "    a1.append (sig(z1[0]))\n",
    "    a1.append (sig(z1[1]))\n",
    "    a1.append (sig(z1[2]))\n",
    "    a1.append (sig(z1[3]))\n",
    "\n",
    "    z2=[]\n",
    "    z2.append (np.dot (in_W2,a1[0])[0][0] + in_b2)\n",
    "    z2.append (np.dot (in_W2,a1[1])[0][0] + in_b2)\n",
    "    z2.append (np.dot (in_W2,a1[2])[0][0] + in_b2)\n",
    "    z2.append (np.dot (in_W2,a1[3])[0][0] + in_b2)\n",
    "\n",
    "    a2=[]\n",
    "    a2.append (sig(z2[0]))\n",
    "    a2.append (sig(z2[1]))\n",
    "    a2.append (sig(z2[2]))\n",
    "    a2.append (sig(z2[3]))\n",
    "    \n",
    "    sigma2=[]\n",
    "    sigma2.append ((a2[0]-y[0]) * deriv_sig(z2[0]))\n",
    "    sigma2.append ((a2[1]-y[1]) * deriv_sig(z2[1]))\n",
    "    sigma2.append ((a2[2]-y[2]) * deriv_sig(z2[2]))\n",
    "    sigma2.append ((a2[3]-y[3]) * deriv_sig(z2[3]))\n",
    "\n",
    "    sigma1=[]\n",
    "    sigma1.append (np.transpose (in_W2) * sigma2[0] * deriv_sig(z1[0]))\n",
    "    sigma1.append (np.transpose (in_W2) * sigma2[1] * deriv_sig(z1[1]))\n",
    "    sigma1.append (np.transpose (in_W2) * sigma2[2] * deriv_sig(z1[2]))\n",
    "    sigma1.append (np.transpose (in_W2) * sigma2[3] * deriv_sig(z1[3]))\n",
    "    \n",
    "    W_summ_layer1 = np.zeros((2,2))\n",
    "    W_summ_layer2 = np.zeros((1,2))\n",
    "    b_summ_layer1 = np.zeros((2,1))\n",
    "    b_summ_layer2 = 0\n",
    "\n",
    "    for i in range(len(sigma1)):\n",
    "        W_summ_layer1 += np.dot (sigma1[i], np.transpose (x[i]))\n",
    "        W_summ_layer2 += np.dot (sigma2[i], np.transpose (a1[i]))\n",
    "        b_summ_layer1 += sigma1[i]\n",
    "        b_summ_layer2 += sigma2[i]\n",
    "    \n",
    "    out_W1 = in_W1 - alpha / len(sigma1) * W_summ_layer1\n",
    "    out_W2 = in_W2 - alpha / len(sigma1) * W_summ_layer2\n",
    "    out_b1 = in_b1 - alpha / len(sigma1) * b_summ_layer1\n",
    "    out_b2 = in_b2 - alpha / len(sigma1) * b_summ_layer2\n",
    "    \n",
    "    return a2,out_W1,out_W2,out_b1,out_b2"
   ]
  },
  {
   "cell_type": "code",
   "execution_count": 90,
   "metadata": {
    "collapsed": false
   },
   "outputs": [
    {
     "name": "stdout",
     "output_type": "stream",
     "text": [
      "Terminated at epoch 1411\n",
      "Final output: [0.061457354613455889, 0.92278836510314555, 0.92241755774520917, 0.08036246689515128]\n"
     ]
    },
    {
     "data": {
      "image/png": "[encoded data removed]",
      "text/plain": [
       "<matplotlib.figure.Figure at 0xd6cc630>"
      ]
     },
     "metadata": {},
     "output_type": "display_data"
    }
   ],
   "source": [
    "epoch=0\n",
    "errors = []\n",
    "while (epoch < 5000):\n",
    "    ans,new_W1,new_W2,new_b1,new_b2 = learn (W1[epoch], W2[epoch], b1[epoch], b2[epoch])\n",
    "    W1.append (new_W1)\n",
    "    W2.append (new_W2)\n",
    "    b1.append (new_b1)\n",
    "    b2.append (new_b2)\n",
    "    errors.append (mean_squared_error(ans,y))\n",
    "    if (epoch > 0):\n",
    "        if (errors[epoch-1] - errors[epoch] < epsilon):\n",
    "            break\n",
    "    epoch+=1\n",
    "\n",
    "if (epoch == maximum_epochs):\n",
    "    print \"Did not reach terminating condition. Epochs:\",epoch\n",
    "else:\n",
    "    print \"Terminated at epoch\",epoch\n",
    "print \"Final output:\",ans\n",
    "\n",
    "plt.plot(errors)\n",
    "plt.xlabel('Epochs')\n",
    "plt.ylabel('Error')\n",
    "plt.show()"
   ]
  }
 ],
 "metadata": {
  "anaconda-cloud": {},
  "kernelspec": {
   "display_name": "Python [Root]",
   "language": "python",
   "name": "Python [Root]"
  },
  "language_info": {
   "codemirror_mode": {
    "name": "ipython",
    "version": 2
   },
   "file_extension": ".py",
   "mimetype": "text/x-python",
   "name": "python",
   "nbconvert_exporter": "python",
   "pygments_lexer": "ipython2",
   "version": "2.7.12"
  }
 },
 "nbformat": 4,
 "nbformat_minor": 0
}
