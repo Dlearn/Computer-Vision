{
 "cells": [
  {
   "cell_type": "markdown",
   "metadata": {},
   "source": [
    "# VisionHomework4\n",
    "\n",
    "## XOR NETWORK - WITH VARIABLE LAYERS AND NUMBER OF NEURONS\n",
    "\n",
    "### Helper Functions"
   ]
  },
  {
   "cell_type": "code",
   "execution_count": 3,
   "metadata": {
    "collapsed": true
   },
   "outputs": [],
   "source": [
    "import copy\n",
    "import numpy as np\n",
    "from scipy.special import expit\n",
    "from sklearn.metrics import mean_squared_error\n",
    "import matplotlib.pyplot as plt\n",
    "%matplotlib inline\n",
    "\n",
    "def sig(x):\n",
    "    return expit(x)\n",
    "\n",
    "def deriv_sig(x):\n",
    "    return sig(x)*(1-sig(x))\n",
    "\n",
    "def gaus_ran(n, shape):\n",
    "    return np.random.normal (0, 1/n**(.5), shape)"
   ]
  },
  {
   "cell_type": "markdown",
   "metadata": {},
   "source": [
    "## Hyperparameters"
   ]
  },
  {
   "cell_type": "code",
   "execution_count": 4,
   "metadata": {
    "collapsed": false
   },
   "outputs": [],
   "source": [
    "# Learning Rate\n",
    "alpha = 2.1\n",
    "epsilon = 0.0001\n",
    "maximum_error_permitted = 0.001\n",
    "maximum_epochs = 9001"
   ]
  },
  {
   "cell_type": "markdown",
   "metadata": {},
   "source": [
    "## Input and Output"
   ]
  },
  {
   "cell_type": "code",
   "execution_count": 5,
   "metadata": {
    "collapsed": false
   },
   "outputs": [],
   "source": [
    "x_s = []\n",
    "x_s.append(np.array([[0],[0]]))\n",
    "x_s.append(np.array([[0],[1]]))\n",
    "x_s.append(np.array([[1],[0]]))\n",
    "x_s.append(np.array([[1],[1]]))\n",
    "no_of_x_s = len(x_s[0])\n",
    "no_of_samples = len(x_s)\n",
    "\n",
    "y_s=[]\n",
    "y_s.append (np.array([0]))\n",
    "y_s.append (np.array([1]))\n",
    "y_s.append (np.array([1]))\n",
    "y_s.append (np.array([0]))\n",
    "assert len(x_s) == len(y_s)"
   ]
  },
  {
   "cell_type": "markdown",
   "metadata": {},
   "source": [
    "## Number of Layers and Neurons & Initialization"
   ]
  },
  {
   "cell_type": "code",
   "execution_count": 6,
   "metadata": {
    "collapsed": false
   },
   "outputs": [],
   "source": [
    "no_of_neurons_each_layer = [2,2,1]\n",
    "no_of_layers = len (no_of_neurons_each_layer)\n",
    "\n",
    "# Initialize the weights neuron and for each layer\n",
    "W_s=[]\n",
    "W_s.append (gaus_ran(no_of_samples, (no_of_neurons_each_layer[0],no_of_x_s)))\n",
    "for i in range(1,len(no_of_neurons_each_layer)):\n",
    "    W_s.append (gaus_ran(no_of_samples, (no_of_neurons_each_layer[i],no_of_neurons_each_layer[i-1])))\n",
    "\n",
    "b_s=[]\n",
    "for l in no_of_neurons_each_layer:\n",
    "    b_s.append (gaus_ran(no_of_samples, (l,1)))"
   ]
  },
  {
   "cell_type": "markdown",
   "metadata": {},
   "source": [
    "## Learn and Running the Network"
   ]
  },
  {
   "cell_type": "code",
   "execution_count": 9,
   "metadata": {
    "collapsed": false
   },
   "outputs": [],
   "source": [
    "def learn (in_W_s, in_b_s):\n",
    "    z_s=[]\n",
    "    a_s=[]\n",
    "\n",
    "    # FEEDFORWARD\n",
    "\n",
    "    ## FIRST LAYER WITH X'S\n",
    "    z=[]\n",
    "    a=[]\n",
    "    for x in x_s:\n",
    "        z.append (np.dot(in_W_s[0],x) + in_b_s[0])\n",
    "        a.append (sig(z[-1]))\n",
    "    z_s.append (z)\n",
    "    a_s.append (a)\n",
    "\n",
    "    ## EVERY SUBSEQUENT LAYER WITH PREVIOUS OUTPUT\n",
    "    for i in range (1, no_of_layers):\n",
    "        z=[]\n",
    "        a=[]\n",
    "        for j in range (no_of_samples):\n",
    "            z.append (np.dot(in_W_s[i],a_s[-1][j]) + in_b_s[i])\n",
    "            a.append (sig(z[-1]))\n",
    "        z_s.append (z)\n",
    "        a_s.append (a)\n",
    "\n",
    "    # BACKPROPAGATION\n",
    "\n",
    "    ## LAST: DELTA L\n",
    "    delta_s=[]\n",
    "\n",
    "    delta=[]\n",
    "    for i in range (no_of_samples):\n",
    "        delta.append ((a_s[-1][i] - y_s[i]) * deriv_sig(z_s[-1][i]))\n",
    "    delta_s.append (delta)\n",
    "    print \"delta\",delta\n",
    "\n",
    "    ## EVERY LAYER FROM L-1 to 1\n",
    "    for i in range(no_of_layers-2, -1, -1): ### We start at no_of_layers-2 because -1 is the final layer\n",
    "        delta=[]\n",
    "        for j in range (no_of_samples):\n",
    "            #print in_W_s[i+1].shape\n",
    "            #delta.append (np.transpose (in_W_s[i+1]) * delta_s[0][j] * deriv_sig(z_s[i][j]))\n",
    "            delta.append (np.dot (np.transpose (in_W_s[i+1]), delta_s[0][j]) * deriv_sig(z_s[i][j]))\n",
    "        delta_s.insert (0,delta)\n",
    "    print \"delta_s\",delta_s\n",
    "\n",
    "    # GRADIENT DESCENT\n",
    "    sum_W_s=[]\n",
    "    sum_b_s=[]\n",
    "    for i in range(no_of_layers):\n",
    "        sum_W_s.append (np.zeros(in_W_s[i].shape))\n",
    "        sum_b_s.append (np.zeros(in_b_s[i].shape))\n",
    "\n",
    "    out_W_s=[]\n",
    "    out_b_s=[]\n",
    "\n",
    "    for j in range(no_of_samples):\n",
    "        sum_W_s[0] += np.dot (delta_s[0][j], np.transpose (x_s[j]))\n",
    "        sum_b_s[0] += delta_s[0][j]\n",
    "    out_W_s.append (in_W_s[0] - sum_W_s[0] * alpha / no_of_samples)\n",
    "    out_b_s.append (in_b_s[0] - sum_b_s[0] * alpha / no_of_samples)\n",
    "\n",
    "    for i in range (1, no_of_layers):\n",
    "        for j in range(no_of_samples):\n",
    "            sum_W_s[i] += np.dot (delta_s[i][j], np.transpose (a_s[i-1][j]))\n",
    "            sum_b_s[i] += delta_s[i][j]\n",
    "        out_W_s.append (in_W_s[i] - sum_W_s[i] * alpha / no_of_samples)\n",
    "        out_b_s.append (in_b_s[i] - sum_b_s[i] * alpha / no_of_samples)\n",
    "    \n",
    "    out_ans=[]\n",
    "    for a in a_s[-1]:\n",
    "        out_ans.append (a[0])\n",
    "    return out_ans, out_W_s, out_b_s\n",
    "    \n",
    "def run_network (in_W_s, in_b_s):\n",
    "    W_s = in_W_s\n",
    "    b_s = in_b_s\n",
    "    \n",
    "    epoch=0\n",
    "    errors = []\n",
    "    while (epoch < maximum_epochs):\n",
    "        ans, W_s, b_s = learn (W_s, b_s)\n",
    "        errors.append (mean_squared_error(ans,y_s))\n",
    "        #for i in range(no_of_x_s):\n",
    "            \n",
    "        \n",
    "        if (epoch > 0):\n",
    "            if errors[epoch-1] - errors[epoch] < epsilon and errors[-1] < maximum_error_permitted:\n",
    "                print ans\n",
    "                break\n",
    "        epoch+=1\n",
    "    \n",
    "    if (epoch == maximum_epochs):\n",
    "        print \"Did not reach terminating condition. Epochs:\",epoch\n",
    "    else:\n",
    "        print \"Terminated at epoch\",epoch\n",
    "    print \"Final output:\",ans\n",
    "    \n",
    "    plt.plot(errors)\n",
    "    plt.xlabel('Epochs')\n",
    "    plt.ylabel('Error')\n",
    "    plt.show()\n",
    "    \n",
    "    return errors,W_s,b_s"
   ]
  },
  {
   "cell_type": "code",
   "execution_count": 10,
   "metadata": {
    "collapsed": false
   },
   "outputs": [
    {
     "name": "stdout",
     "output_type": "stream",
     "text": [
      "delta [array([[ 0.11737529]]), array([[-0.13198242]]), array([[-0.13150868]]), array([[ 0.11750294]])]\n"
     ]
    },
    {
     "data": {
      "text/plain": [
       "([array([ 0.4710774]),\n",
       "  array([ 0.47018667]),\n",
       "  array([ 0.47235189]),\n",
       "  array([ 0.47153954])],\n",
       " [array([[-1.21823046,  0.77221825],\n",
       "         [ 1.47716973,  0.41765901]]), array([[-0.19993813,  0.24612937],\n",
       "         [-0.53617307, -0.03709422]]), array([[ 0.01652054,  0.15467327]])],\n",
       " [array([[ 0.12749732],\n",
       "         [ 0.1219127 ]]), array([[ 0.0038849 ],\n",
       "         [ 0.67181022]]), array([[-0.19126755]])])"
      ]
     },
     "execution_count": 10,
     "metadata": {},
     "output_type": "execute_result"
    }
   ],
   "source": [
    "learn (W_s, b_s)"
   ]
  },
  {
   "cell_type": "code",
   "execution_count": 7,
   "metadata": {
    "collapsed": false
   },
   "outputs": [
    {
     "name": "stdout",
     "output_type": "stream",
     "text": [
      "[array([ 0.03468647]), array([ 0.97035298]), array([ 0.96779854]), array([ 0.02958953])]\n",
      "Terminated at epoch 6970\n",
      "Final output: [array([ 0.03468647]), array([ 0.97035298]), array([ 0.96779854]), array([ 0.02958953])]\n"
     ]
    },
    {
     "data": {
      "image/png": "[encoded data removed]",
      "text/plain": [
       "<matplotlib.figure.Figure at 0x3bccf60>"
      ]
     },
     "metadata": {},
     "output_type": "display_data"
    }
   ],
   "source": [
    "errors,out_W_s,out_b_s = run_network(W_s,b_s)"
   ]
  },
  {
   "cell_type": "code",
   "execution_count": 44,
   "metadata": {
    "collapsed": false
   },
   "outputs": [
    {
     "name": "stdout",
     "output_type": "stream",
     "text": [
      "[array([0]), array([1]), array([1]), array([0])]\n"
     ]
    }
   ],
   "source": [
    "print y_s"
   ]
  }
 ],
 "metadata": {
  "anaconda-cloud": {},
  "kernelspec": {
   "display_name": "Python [Root]",
   "language": "python",
   "name": "Python [Root]"
  },
  "language_info": {
   "codemirror_mode": {
    "name": "ipython",
    "version": 2
   },
   "file_extension": ".py",
   "mimetype": "text/x-python",
   "name": "python",
   "nbconvert_exporter": "python",
   "pygments_lexer": "ipython2",
   "version": "2.7.12"
  }
 },
 "nbformat": 4,
 "nbformat_minor": 0
}
